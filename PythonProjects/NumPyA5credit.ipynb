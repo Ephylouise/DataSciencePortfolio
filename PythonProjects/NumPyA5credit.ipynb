{
  "nbformat": 4,
  "nbformat_minor": 0,
  "metadata": {
    "colab": {
      "provenance": []
    },
    "kernelspec": {
      "name": "python3",
      "display_name": "Python 3"
    },
    "language_info": {
      "name": "python"
    }
  },
  "cells": [
    {
      "cell_type": "code",
      "execution_count": 2,
      "metadata": {
        "id": "tGjRuWD6UrJe"
      },
      "outputs": [],
      "source": [
        "import numpy as np"
      ]
    },
    {
      "cell_type": "code",
      "source": [
        "np.random.seed(5)\n",
        "arr = np.random.randint(15, size = (20))\n",
        "Q1 = arr[3]\n"
      ],
      "metadata": {
        "colab": {
          "base_uri": "https://localhost:8080/"
        },
        "id": "WkQJ94kvUvzv",
        "outputId": "6f1c74a5-b385-436d-c72f-c3adc0697fd6"
      },
      "execution_count": 6,
      "outputs": [
        {
          "output_type": "execute_result",
          "data": {
            "text/plain": [
              "array([ 3, 14, 13,  6,  6,  0,  9,  8,  4,  7, 14, 11,  0, 14,  0,  7, 12,\n",
              "        1,  5,  7])"
            ]
          },
          "metadata": {},
          "execution_count": 6
        }
      ]
    },
    {
      "cell_type": "code",
      "source": [
        "Q2 = arr[8:]\n"
      ],
      "metadata": {
        "colab": {
          "base_uri": "https://localhost:8080/"
        },
        "id": "UXimMoT4ViJF",
        "outputId": "c60d028b-242c-484e-cde0-adb9fcd0a999"
      },
      "execution_count": 7,
      "outputs": [
        {
          "output_type": "execute_result",
          "data": {
            "text/plain": [
              "array([ 4,  7, 14, 11,  0, 14,  0,  7, 12,  1,  5,  7])"
            ]
          },
          "metadata": {},
          "execution_count": 7
        }
      ]
    },
    {
      "cell_type": "code",
      "source": [
        "index = [10, 3, 5, 7, 9, 11, 10, 15, 17]\n",
        "Q3 = arr[index]"
      ],
      "metadata": {
        "colab": {
          "base_uri": "https://localhost:8080/"
        },
        "id": "bwNoSi2PViS5",
        "outputId": "bed8fd00-13f3-4b32-f82b-d16e2b39e86c"
      },
      "execution_count": 9,
      "outputs": [
        {
          "output_type": "execute_result",
          "data": {
            "text/plain": [
              "array([14,  6,  0,  8,  7, 11, 14,  7,  1])"
            ]
          },
          "metadata": {},
          "execution_count": 9
        }
      ]
    },
    {
      "cell_type": "code",
      "source": [
        "np.random.seed(6)\n",
        "arr2 = np.random.randint(15, size = (7, 8))\n",
        "Q4 = arr2[5, 3]\n"
      ],
      "metadata": {
        "colab": {
          "base_uri": "https://localhost:8080/"
        },
        "id": "4gVasTV1ViVl",
        "outputId": "da4a398d-8ecd-4084-cc03-75e2ea5bc9c2"
      },
      "execution_count": 18,
      "outputs": [
        {
          "output_type": "execute_result",
          "data": {
            "text/plain": [
              "5"
            ]
          },
          "metadata": {},
          "execution_count": 18
        }
      ]
    },
    {
      "cell_type": "code",
      "source": [
        "Q5 = arr2[:2, 5:]"
      ],
      "metadata": {
        "colab": {
          "base_uri": "https://localhost:8080/"
        },
        "id": "IlwmlqpSXCDE",
        "outputId": "20e20785-bee8-4311-a0c2-e86cf3a55d73"
      },
      "execution_count": 18,
      "outputs": [
        {
          "output_type": "execute_result",
          "data": {
            "text/plain": [
              "array([[13, 10,  0],\n",
              "       [ 9, 10,  1]])"
            ]
          },
          "metadata": {},
          "execution_count": 18
        }
      ]
    },
    {
      "cell_type": "code",
      "source": [
        "np.random.seed(10)\n",
        "Q6 = np.random.randint(15, size = (4, 5))"
      ],
      "metadata": {
        "colab": {
          "base_uri": "https://localhost:8080/"
        },
        "id": "RhIpK5KqViYV",
        "outputId": "099cfa5a-79eb-4054-abc6-a502529bc5e0"
      },
      "execution_count": 19,
      "outputs": [
        {
          "output_type": "execute_result",
          "data": {
            "text/plain": [
              "array([[ 9, 13,  4,  0,  1],\n",
              "       [11, 12,  9, 13,  0],\n",
              "       [13,  1, 10,  8,  9],\n",
              "       [ 0, 10,  8,  6,  4]])"
            ]
          },
          "metadata": {},
          "execution_count": 19
        }
      ]
    },
    {
      "cell_type": "code",
      "source": [
        "Q6[2, 2] = 4\n",
        "Q7 = Q6[1:, :3]"
      ],
      "metadata": {
        "colab": {
          "base_uri": "https://localhost:8080/"
        },
        "id": "dxDOokegViaz",
        "outputId": "fecd566e-3dc6-4102-dfa1-be2f8ead0203"
      },
      "execution_count": 20,
      "outputs": [
        {
          "output_type": "execute_result",
          "data": {
            "text/plain": [
              "array([[11, 12,  9],\n",
              "       [13,  1,  4],\n",
              "       [ 0, 10,  8]])"
            ]
          },
          "metadata": {},
          "execution_count": 20
        }
      ]
    },
    {
      "cell_type": "code",
      "source": [
        "np.random.seed(8)\n",
        "Q8 = np.random.randint(15, size = (4, 5))"
      ],
      "metadata": {
        "id": "esxwe48hYOGU"
      },
      "execution_count": 22,
      "outputs": []
    },
    {
      "cell_type": "code",
      "source": [
        "Q9 = np.array(Q8[1:, :3])\n",
        "Q9[1,2] = 4"
      ],
      "metadata": {
        "id": "_LgfTdybYOaO"
      },
      "execution_count": 27,
      "outputs": []
    },
    {
      "cell_type": "code",
      "source": [
        "np.random.seed(20)\n",
        "arr3 = np.random.randint(15, size = (2, 6)).reshape(4,3)\n",
        "Q10 = arr3"
      ],
      "metadata": {
        "id": "zupHa-OYYOc2"
      },
      "execution_count": 8,
      "outputs": []
    },
    {
      "cell_type": "code",
      "source": [
        "np.random.seed(15)\n",
        "Q11 = np.random.randint(15, size = 10).reshape(10,1)"
      ],
      "metadata": {
        "colab": {
          "base_uri": "https://localhost:8080/"
        },
        "id": "aRgvysXLYOfw",
        "outputId": "54aeb181-b50b-43d1-b372-9e2d322ed257"
      },
      "execution_count": 12,
      "outputs": [
        {
          "output_type": "execute_result",
          "data": {
            "text/plain": [
              "array([[ 8],\n",
              "       [ 5],\n",
              "       [12],\n",
              "       [ 5],\n",
              "       [ 7],\n",
              "       [ 0],\n",
              "       [12],\n",
              "       [11],\n",
              "       [ 7],\n",
              "       [11]])"
            ]
          },
          "metadata": {},
          "execution_count": 12
        }
      ]
    },
    {
      "cell_type": "code",
      "source": [
        "np.random.seed(9)\n",
        "arr4 = np.random.randint( 15, size = (5, 3))\n",
        "Q12 = arr4[3, :].copy()"
      ],
      "metadata": {
        "colab": {
          "base_uri": "https://localhost:8080/"
        },
        "id": "e6CeHSTqYOiw",
        "outputId": "81bc0449-3e4a-4523-c574-1cbb4d626005"
      },
      "execution_count": 16,
      "outputs": [
        {
          "output_type": "execute_result",
          "data": {
            "text/plain": [
              "array([1, 6, 4])"
            ]
          },
          "metadata": {},
          "execution_count": 16
        }
      ]
    }
  ]
}