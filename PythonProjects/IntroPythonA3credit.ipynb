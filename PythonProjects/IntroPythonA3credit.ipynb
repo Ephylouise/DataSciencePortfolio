{
 "cells": [
  {
   "cell_type": "markdown",
   "id": "ae7e0e8b",
   "metadata": {},
   "source": [
    "Steph Roberts\n",
    "2024 SP1 520\n",
    "26JAN24\n",
    "Python Assignment 3 - For Credit"
   ]
  },
  {
   "cell_type": "code",
   "execution_count": 68,
   "id": "3fe3fc88",
   "metadata": {},
   "outputs": [],
   "source": [
    "Q1 = ['one', 1, 1.0]"
   ]
  },
  {
   "cell_type": "code",
   "execution_count": 77,
   "id": "2e6e6afa",
   "metadata": {},
   "outputs": [],
   "source": [
    "q2 = ['two', 2, 2.0]\n",
    "q2[1] = 'dos'\n",
    "Q2 = q2"
   ]
  },
  {
   "cell_type": "code",
   "execution_count": 109,
   "id": "9e9461dc",
   "metadata": {},
   "outputs": [
    {
     "name": "stdout",
     "output_type": "stream",
     "text": [
      "['three', 3, 3.0, 'tres']\n"
     ]
    }
   ],
   "source": [
    "q3 = ['three', 3, 3.0]\n",
    "q3.append('tres')\n",
    "Q3 = q3"
   ]
  },
  {
   "cell_type": "code",
   "execution_count": 92,
   "id": "338f9a4d",
   "metadata": {},
   "outputs": [],
   "source": [
    "q4a = ['four', 4, 4.0]\n",
    "q4b = ['eight', 8, 8.0, 'ocho']\n",
    "q4a.extend(q4b)\n",
    "Q4 = q4a"
   ]
  },
  {
   "cell_type": "code",
   "execution_count": 94,
   "id": "f286b002",
   "metadata": {},
   "outputs": [],
   "source": [
    "q5a = ['five', 5]\n",
    "q5b = ['nine', 9, 9.0, 'nueve']\n",
    "q5a.append(q5b)\n",
    "Q5 = q5a"
   ]
  },
  {
   "cell_type": "code",
   "execution_count": 97,
   "id": "e9b89222",
   "metadata": {},
   "outputs": [],
   "source": [
    "Q6 = len(q5b)"
   ]
  },
  {
   "cell_type": "code",
   "execution_count": 99,
   "id": "628dd2c8",
   "metadata": {},
   "outputs": [],
   "source": [
    "Q7 = q5b * 3"
   ]
  },
  {
   "cell_type": "code",
   "execution_count": 102,
   "id": "bc0353a1",
   "metadata": {},
   "outputs": [],
   "source": [
    "Q8 = Q5[-1]"
   ]
  }
 ],
 "metadata": {
  "kernelspec": {
   "display_name": "Python 3 (ipykernel)",
   "language": "python",
   "name": "python3"
  },
  "language_info": {
   "codemirror_mode": {
    "name": "ipython",
    "version": 3
   },
   "file_extension": ".py",
   "mimetype": "text/x-python",
   "name": "python",
   "nbconvert_exporter": "python",
   "pygments_lexer": "ipython3",
   "version": "3.11.5"
  }
 },
 "nbformat": 4,
 "nbformat_minor": 5
}
