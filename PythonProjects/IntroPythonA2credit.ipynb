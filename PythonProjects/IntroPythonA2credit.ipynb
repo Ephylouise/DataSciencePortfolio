{
 "cells": [
  {
   "cell_type": "markdown",
   "id": "ae7e0e8b",
   "metadata": {},
   "source": [
    "Steph Roberts\n",
    "2024 SP1 520\n",
    "26JAN24\n",
    "Python Assignment 2 - For Credit"
   ]
  },
  {
   "cell_type": "code",
   "execution_count": 40,
   "id": "5e2d0661",
   "metadata": {},
   "outputs": [],
   "source": [
    "Q1 = \"Data Science for all!\""
   ]
  },
  {
   "cell_type": "code",
   "execution_count": 41,
   "id": "e5369696",
   "metadata": {},
   "outputs": [],
   "source": [
    "def Q2():\n",
    "    for i in Q1:\n",
    "        print(i)"
   ]
  },
  {
   "cell_type": "code",
   "execution_count": 42,
   "id": "a7f3a41e",
   "metadata": {},
   "outputs": [],
   "source": [
    "def Q3():\n",
    "    for i in Q1:\n",
    "        print(\"A\")"
   ]
  },
  {
   "cell_type": "code",
   "execution_count": 43,
   "id": "135d99b0",
   "metadata": {},
   "outputs": [],
   "source": [
    "Q4 = [\"DTSC 520\", \"DTSC 550\", \"DTSC 575\",\n",
    "\"DTSC 600\", \"DTSC 650\"]"
   ]
  },
  {
   "cell_type": "code",
   "execution_count": 44,
   "id": "9e864345",
   "metadata": {},
   "outputs": [],
   "source": [
    "def Q5():\n",
    "    for i in Q4:\n",
    "        print(i)"
   ]
  },
  {
   "cell_type": "code",
   "execution_count": 45,
   "id": "1a34656a",
   "metadata": {},
   "outputs": [],
   "source": [
    "def Q6():\n",
    "    i = 2\n",
    "    while i < 50:\n",
    "        print(i)\n",
    "        i = i * 2"
   ]
  },
  {
   "cell_type": "code",
   "execution_count": 46,
   "id": "e65c06a8",
   "metadata": {},
   "outputs": [],
   "source": [
    "Q7 = [2, 3, 5, 7, 11, 13, 17, 19, 23, 29]"
   ]
  },
  {
   "cell_type": "code",
   "execution_count": 47,
   "id": "dd88ad90",
   "metadata": {},
   "outputs": [],
   "source": [
    "def Q8():\n",
    "    return sum(Q7)"
   ]
  },
  {
   "cell_type": "code",
   "execution_count": 67,
   "id": "b02ad481",
   "metadata": {},
   "outputs": [],
   "source": [
    "def Q9():\n",
    "    count = 0\n",
    "    num = 3\n",
    "    while len(str(num)) < 20:\n",
    "        num = num **2\n",
    "        count += 1\n",
    "    return count"
   ]
  }
 ],
 "metadata": {
  "kernelspec": {
   "display_name": "Python 3 (ipykernel)",
   "language": "python",
   "name": "python3"
  },
  "language_info": {
   "codemirror_mode": {
    "name": "ipython",
    "version": 3
   },
   "file_extension": ".py",
   "mimetype": "text/x-python",
   "name": "python",
   "nbconvert_exporter": "python",
   "pygments_lexer": "ipython3",
   "version": "3.11.5"
  }
 },
 "nbformat": 4,
 "nbformat_minor": 5
}
