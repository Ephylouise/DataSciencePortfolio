{
 "cells": [
  {
   "cell_type": "markdown",
   "id": "ae7e0e8b",
   "metadata": {},
   "source": [
    "Steph Roberts\n",
    "2024 SP1 520\n",
    "26JAN24\n",
    "Functions Assignment 1 - For Credit"
   ]
  },
  {
   "cell_type": "code",
   "execution_count": 115,
   "id": "e1ae6b9d",
   "metadata": {},
   "outputs": [],
   "source": [
    "def Q1():\n",
    "    print(\"Hello World\")"
   ]
  },
  {
   "cell_type": "code",
   "execution_count": 116,
   "id": "c031936f",
   "metadata": {},
   "outputs": [],
   "source": [
    "def Q2():\n",
    "    print(\"Eastern University\")"
   ]
  },
  {
   "cell_type": "code",
   "execution_count": 118,
   "id": "62e9830b",
   "metadata": {},
   "outputs": [],
   "source": [
    "def Q3(x):\n",
    "    print(x)"
   ]
  },
  {
   "cell_type": "code",
   "execution_count": 121,
   "id": "da9ab459",
   "metadata": {},
   "outputs": [],
   "source": [
    "def Q4(x):\n",
    "    return(x**2)"
   ]
  },
  {
   "cell_type": "code",
   "execution_count": 123,
   "id": "8455971c",
   "metadata": {},
   "outputs": [],
   "source": [
    "def Q5(x):\n",
    "    return(x**3)"
   ]
  },
  {
   "cell_type": "code",
   "execution_count": 127,
   "id": "991e4216",
   "metadata": {},
   "outputs": [],
   "source": [
    "def Q6(x):\n",
    "    print(\"The argument is\", x)"
   ]
  },
  {
   "cell_type": "code",
   "execution_count": 129,
   "id": "6c3e5b5b",
   "metadata": {},
   "outputs": [],
   "source": [
    "def Q7(x, y):\n",
    "    print(x - y)"
   ]
  },
  {
   "cell_type": "code",
   "execution_count": 131,
   "id": "7e4cc4b6",
   "metadata": {},
   "outputs": [],
   "source": [
    "def Q8(a, b, c, d, e):\n",
    "    print(a*b*c*d*e)"
   ]
  },
  {
   "cell_type": "code",
   "execution_count": 140,
   "id": "077c8801",
   "metadata": {},
   "outputs": [],
   "source": [
    "def Q9(x):\n",
    "    count = 0\n",
    "    while count <= x:\n",
    "        print(count)\n",
    "        count += 1"
   ]
  }
 ],
 "metadata": {
  "kernelspec": {
   "display_name": "Python 3 (ipykernel)",
   "language": "python",
   "name": "python3"
  },
  "language_info": {
   "codemirror_mode": {
    "name": "ipython",
    "version": 3
   },
   "file_extension": ".py",
   "mimetype": "text/x-python",
   "name": "python",
   "nbconvert_exporter": "python",
   "pygments_lexer": "ipython3",
   "version": "3.11.5"
  }
 },
 "nbformat": 4,
 "nbformat_minor": 5
}
