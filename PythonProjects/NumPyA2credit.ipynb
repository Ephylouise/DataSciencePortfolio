{
  "nbformat": 4,
  "nbformat_minor": 0,
  "metadata": {
    "colab": {
      "provenance": []
    },
    "kernelspec": {
      "name": "python3",
      "display_name": "Python 3"
    },
    "language_info": {
      "name": "python"
    }
  },
  "cells": [
    {
      "cell_type": "code",
      "execution_count": 2,
      "metadata": {
        "id": "M8HBnt1igt31"
      },
      "outputs": [],
      "source": [
        "import numpy as np"
      ]
    },
    {
      "cell_type": "code",
      "source": [
        "np.random.seed(56)\n",
        "Q1 = np.random.randint(20, size = (10, 10))\n"
      ],
      "metadata": {
        "colab": {
          "base_uri": "https://localhost:8080/"
        },
        "id": "hW0VkaiMgyB6",
        "outputId": "b76a6974-5d08-4c67-e36b-ba609c1a9436"
      },
      "execution_count": 15,
      "outputs": [
        {
          "output_type": "execute_result",
          "data": {
            "text/plain": [
              "array([[ 4, 15,  0,  2, 11, 14,  9,  4, 15, 17],\n",
              "       [12,  2, 11, 11, 14, 16,  6,  1, 10,  5],\n",
              "       [ 2, 15, 19,  5,  9,  2, 10,  1, 16, 13],\n",
              "       [ 6, 18, 12,  0,  8,  4, 14, 15,  0, 17],\n",
              "       [11, 17, 12, 19, 14, 10, 18,  1, 19,  3],\n",
              "       [ 2,  0,  3, 16, 16,  8, 16,  9, 11,  0],\n",
              "       [10, 18, 19,  7,  1, 11,  5, 16,  8,  2],\n",
              "       [13,  8, 16, 19, 18,  7, 18,  5, 16, 14],\n",
              "       [17,  1,  7, 15,  4,  1, 19,  2,  0,  8],\n",
              "       [15, 16,  5, 19,  7,  7,  0, 15,  1, 19]])"
            ]
          },
          "metadata": {},
          "execution_count": 15
        }
      ]
    },
    {
      "cell_type": "code",
      "source": [
        "Q2 = Q1[2:5, 3:8]\n"
      ],
      "metadata": {
        "colab": {
          "base_uri": "https://localhost:8080/"
        },
        "id": "gr_LCgBagyP4",
        "outputId": "84d69a3d-583c-42b4-b8e9-704e344d9628"
      },
      "execution_count": 4,
      "outputs": [
        {
          "output_type": "execute_result",
          "data": {
            "text/plain": [
              "array([[ 5,  9,  2, 10,  1],\n",
              "       [ 0,  8,  4, 14, 15],\n",
              "       [19, 14, 10, 18,  1]])"
            ]
          },
          "metadata": {},
          "execution_count": 4
        }
      ]
    },
    {
      "cell_type": "code",
      "source": [
        "Q3 = Q1[7:, 4:6]\n"
      ],
      "metadata": {
        "colab": {
          "base_uri": "https://localhost:8080/"
        },
        "id": "8QH_7--ggySX",
        "outputId": "e2e2d757-9906-465e-daf8-05ab93b94942"
      },
      "execution_count": 5,
      "outputs": [
        {
          "output_type": "execute_result",
          "data": {
            "text/plain": [
              "array([[18,  7],\n",
              "       [ 4,  1],\n",
              "       [ 7,  7]])"
            ]
          },
          "metadata": {},
          "execution_count": 5
        }
      ]
    },
    {
      "cell_type": "code",
      "source": [
        "Q4 = np.reshape(Q3, (2,3))\n"
      ],
      "metadata": {
        "colab": {
          "base_uri": "https://localhost:8080/"
        },
        "id": "ENyzNFCZgyVF",
        "outputId": "f21f5fd3-94da-4759-834c-7e6b271cc754"
      },
      "execution_count": 6,
      "outputs": [
        {
          "output_type": "execute_result",
          "data": {
            "text/plain": [
              "array([[18,  7,  4],\n",
              "       [ 1,  7,  7]])"
            ]
          },
          "metadata": {},
          "execution_count": 6
        }
      ]
    },
    {
      "cell_type": "code",
      "source": [
        "\n",
        "x = np.random.randint(15, size = 10)\n",
        "y = np.random.randint(15, size = 10)\n",
        "Q5 = np.concatenate((x, y), axis = 0)\n"
      ],
      "metadata": {
        "colab": {
          "base_uri": "https://localhost:8080/"
        },
        "id": "NPjvPUrmgyXj",
        "outputId": "c0eb52aa-1f39-4ace-f13f-ac644a7bb592"
      },
      "execution_count": 16,
      "outputs": [
        {
          "output_type": "execute_result",
          "data": {
            "text/plain": [
              "array([ 5,  3,  2,  5,  1,  5,  1, 11, 14, 10,  4,  3,  9,  7,  6,  7,  7,\n",
              "       14,  0,  4])"
            ]
          },
          "metadata": {},
          "execution_count": 16
        }
      ]
    },
    {
      "cell_type": "code",
      "source": [
        "x1, x2, x3, x4 = np.array_split(Q5, [4, 11, 17])\n",
        "Q6a = x1\n"
      ],
      "metadata": {
        "colab": {
          "base_uri": "https://localhost:8080/"
        },
        "id": "Akv4ro2sgyaC",
        "outputId": "5070dff7-5141-4792-e774-f7b6f3a5ae9b"
      },
      "execution_count": 25,
      "outputs": [
        {
          "output_type": "execute_result",
          "data": {
            "text/plain": [
              "array([5, 3, 2, 5])"
            ]
          },
          "metadata": {},
          "execution_count": 25
        }
      ]
    },
    {
      "cell_type": "code",
      "source": [
        "Q6b = x2\n"
      ],
      "metadata": {
        "colab": {
          "base_uri": "https://localhost:8080/"
        },
        "id": "bNgaUbBBgycZ",
        "outputId": "a1e0135a-6f1d-4a53-8080-22e2e7824de6"
      },
      "execution_count": 26,
      "outputs": [
        {
          "output_type": "execute_result",
          "data": {
            "text/plain": [
              "array([ 1,  5,  1, 11, 14, 10,  4])"
            ]
          },
          "metadata": {},
          "execution_count": 26
        }
      ]
    },
    {
      "cell_type": "code",
      "source": [
        "Q6c = x3\n"
      ],
      "metadata": {
        "colab": {
          "base_uri": "https://localhost:8080/"
        },
        "id": "TRLwTIQ7gye5",
        "outputId": "cb72bfa7-0fb6-4a26-fe1f-025cdb6550fc"
      },
      "execution_count": 27,
      "outputs": [
        {
          "output_type": "execute_result",
          "data": {
            "text/plain": [
              "array([3, 9, 7, 6, 7, 7])"
            ]
          },
          "metadata": {},
          "execution_count": 27
        }
      ]
    },
    {
      "cell_type": "code",
      "source": [
        "Q6d = x4\n"
      ],
      "metadata": {
        "colab": {
          "base_uri": "https://localhost:8080/"
        },
        "id": "qJbMQ0tSgyhd",
        "outputId": "968ed4b9-0667-4e93-9f04-ee1bd959f95d"
      },
      "execution_count": 28,
      "outputs": [
        {
          "output_type": "execute_result",
          "data": {
            "text/plain": [
              "array([14,  0,  4])"
            ]
          },
          "metadata": {},
          "execution_count": 28
        }
      ]
    },
    {
      "cell_type": "code",
      "source": [
        "Q7 = np.sum(Q5)\n"
      ],
      "metadata": {
        "colab": {
          "base_uri": "https://localhost:8080/"
        },
        "id": "GkF2QG9Hgyj9",
        "outputId": "9a5141ee-ba60-4440-b125-0d0da642be10"
      },
      "execution_count": 31,
      "outputs": [
        {
          "output_type": "execute_result",
          "data": {
            "text/plain": [
              "118"
            ]
          },
          "metadata": {},
          "execution_count": 31
        }
      ]
    },
    {
      "cell_type": "code",
      "source": [
        "ran = np.random.randint(48, 85, size=50)\n",
        "Q8 = np.mean(ran)\n",
        "Q8\n"
      ],
      "metadata": {
        "colab": {
          "base_uri": "https://localhost:8080/"
        },
        "id": "7Ei6kSOPgyml",
        "outputId": "fad7ee5c-bc93-40e3-993d-06d40d04dfdf"
      },
      "execution_count": 40,
      "outputs": [
        {
          "output_type": "execute_result",
          "data": {
            "text/plain": [
              "65.34"
            ]
          },
          "metadata": {},
          "execution_count": 40
        }
      ]
    },
    {
      "cell_type": "code",
      "source": [
        "Name = ['Jonathan Loaisiga', 'Nick Saban', 'Katie Ladecky']\n",
        "Occupation = ['Baseball player', 'Football coach', 'Swimmer']\n",
        "Salary = [595800.00, 8619934.23, 100000.00]"
      ],
      "metadata": {
        "id": "68xeBWQXgypA"
      },
      "execution_count": 35,
      "outputs": []
    },
    {
      "cell_type": "code",
      "source": [
        "sports = np.zeros(3, dtype = {'names':('Name', 'Occupation', 'Salary'),\n",
        "                              'formats':('U20', 'U20', 'f8')})\n",
        "sports['Name'] = Name\n",
        "sports['Occupation'] = Occupation\n",
        "sports['Salary'] = Salary"
      ],
      "metadata": {
        "id": "sGa3kmiWgyr8"
      },
      "execution_count": 38,
      "outputs": []
    },
    {
      "cell_type": "code",
      "source": [
        "Q9 = sports\n"
      ],
      "metadata": {
        "colab": {
          "base_uri": "https://localhost:8080/"
        },
        "id": "tHGU0pPdgyua",
        "outputId": "34eb7b4a-9630-40ee-a14a-9811d84838b3"
      },
      "execution_count": 39,
      "outputs": [
        {
          "output_type": "execute_result",
          "data": {
            "text/plain": [
              "array([('Jonathan Loaisiga', 'Baseball player',  595800.  ),\n",
              "       ('Nick Saban', 'Football coach', 8619934.23),\n",
              "       ('Katie Ladecky', 'Swimmer',  100000.  )],\n",
              "      dtype=[('Name', '<U20'), ('Occupation', '<U20'), ('Salary', '<f8')])"
            ]
          },
          "metadata": {},
          "execution_count": 39
        }
      ]
    }
  ]
}