{
 "cells": [
  {
   "cell_type": "code",
   "execution_count": null,
   "metadata": {
    "id": "boRoTOY5kAVF"
   },
   "outputs": [],
   "source": [
    "import numpy as np"
   ]
  },
  {
   "cell_type": "code",
   "execution_count": 35,
   "metadata": {
    "colab": {
     "base_uri": "https://localhost:8080/"
    },
    "id": "z_TIpjzckF7F",
    "outputId": "85d16201-41ee-43b4-ec43-a6541794ab9d"
   },
   "outputs": [
    {
     "data": {
      "text/plain": [
       "[14, 6, 12]"
      ]
     },
     "execution_count": 35,
     "metadata": {},
     "output_type": "execute_result"
    }
   ],
   "source": [
    "q1 = np.arange(2, 17, 2)\n",
    "Q1 = [q1[6], q1[2], q1[5]]\n"
   ]
  },
  {
   "cell_type": "code",
   "execution_count": null,
   "metadata": {
    "id": "ABtFsVPqkF-O"
   },
   "outputs": [],
   "source": [
    "q2 = np.array([[1, 3, 2], [0, 7, 4]])\n",
    "Q2 = q1[q2]"
   ]
  },
  {
   "cell_type": "code",
   "execution_count": null,
   "metadata": {
    "id": "AXghPbTWkGBH"
   },
   "outputs": [],
   "source": [
    "Q3 = q1.reshape(4, 2)"
   ]
  },
  {
   "cell_type": "code",
   "execution_count": null,
   "metadata": {
    "colab": {
     "base_uri": "https://localhost:8080/"
    },
    "id": "EWSR_omlkGDn",
    "outputId": "f2c749bd-8669-4940-fe12-15f381430d56"
   },
   "outputs": [
    {
     "data": {
      "text/plain": [
       "array([4, 2])"
      ]
     },
     "execution_count": 19,
     "metadata": {},
     "output_type": "execute_result"
    }
   ],
   "source": [
    "Q4 = Q3[0, :][::-1]"
   ]
  },
  {
   "cell_type": "code",
   "execution_count": null,
   "metadata": {
    "id": "C3uQZFxakGGC"
   },
   "outputs": [],
   "source": [
    "Q5 = Q3[:2, :1]"
   ]
  },
  {
   "cell_type": "code",
   "execution_count": null,
   "metadata": {
    "id": "kBAfJLQrkGIu"
   },
   "outputs": [],
   "source": [
    "np.random.seed(6)"
   ]
  },
  {
   "cell_type": "code",
   "execution_count": null,
   "metadata": {
    "id": "NR-qKBcPkGLP"
   },
   "outputs": [],
   "source": [
    "arr = np.random.randint(10, size = 10)"
   ]
  },
  {
   "cell_type": "code",
   "execution_count": null,
   "metadata": {
    "colab": {
     "base_uri": "https://localhost:8080/"
    },
    "id": "cEOyeLWtmsKd",
    "outputId": "a0f8d6d0-feee-4f25-b4ed-81bd670199fc"
   },
   "outputs": [
    {
     "data": {
      "text/plain": [
       "array([0, 1, 1, 1, 3, 4, 4, 9, 9, 9])"
      ]
     },
     "execution_count": 26,
     "metadata": {},
     "output_type": "execute_result"
    }
   ],
   "source": [
    "Q6 = np.sort(arr)"
   ]
  },
  {
   "cell_type": "code",
   "execution_count": null,
   "metadata": {
    "id": "r01hAXP6mznq"
   },
   "outputs": [],
   "source": [
    "q7 = np.random.randint(10, size = (4,5))\n"
   ]
  },
  {
   "cell_type": "code",
   "execution_count": null,
   "metadata": {
    "id": "Ty2-u0sHpqD9"
   },
   "outputs": [],
   "source": [
    "Q7 = np.sort(q7, axis = 0)"
   ]
  },
  {
   "cell_type": "code",
   "execution_count": null,
   "metadata": {
    "colab": {
     "base_uri": "https://localhost:8080/"
    },
    "id": "uqmO1hTEokV6",
    "outputId": "c22d6a03-143e-4c43-a771-0de12aa91806"
   },
   "outputs": [
    {
     "data": {
      "text/plain": [
       "array([[0, 3, 4, 9, 9],\n",
       "       [1, 1, 1, 4, 9],\n",
       "       [2, 2, 4, 5, 8],\n",
       "       [2, 5, 5, 6, 9]])"
      ]
     },
     "execution_count": 8,
     "metadata": {},
     "output_type": "execute_result"
    }
   ],
   "source": [
    "Q8 = np.sort(q7, axis = 1)"
   ]
  },
  {
   "cell_type": "code",
   "execution_count": null,
   "metadata": {
    "colab": {
     "base_uri": "https://localhost:8080/"
    },
    "id": "B4Coa3W4oCdn",
    "outputId": "d623014a-c210-45cf-b871-e62e917ba047"
   },
   "outputs": [
    {
     "name": "stdout",
     "output_type": "stream",
     "text": [
      "[('Grape', 'Purple', 3) ('Apple', 'Red', 2) ('Banana', 'Yellow', 1)]\n"
     ]
    }
   ],
   "source": [
    "fruit = ['Grape', 'Apple', 'Banana']\n",
    "color = ['Purple', 'Red', 'Yellow']\n",
    "ranking = [3, 2, 1]\n",
    "\n",
    "q9 = np.zeros(3, dtype = {'names':('fruit', 'color', 'ranking'),\n",
    "                          'formats':('U20', 'U20', 'i4')})\n",
    "q9['fruit'] = fruit\n",
    "q9['color'] = color\n",
    "q9['ranking'] = ranking"
   ]
  },
  {
   "cell_type": "code",
   "execution_count": 27,
   "metadata": {
    "colab": {
     "base_uri": "https://localhost:8080/"
    },
    "id": "A1FX556fsu9R",
    "outputId": "7f2bd155-b985-41ec-fa56-5eb20618013a"
   },
   "outputs": [
    {
     "data": {
      "text/plain": [
       "array(['Purple', 'Red', 'Yellow'], dtype='<U20')"
      ]
     },
     "execution_count": 27,
     "metadata": {},
     "output_type": "execute_result"
    }
   ],
   "source": [
    "Q9 = q9['color']"
   ]
  },
  {
   "cell_type": "code",
   "execution_count": 25,
   "metadata": {
    "colab": {
     "base_uri": "https://localhost:8080/"
    },
    "id": "h4ekH5CiuTOr",
    "outputId": "8d208b57-b565-4a69-e826-66b4956cafd8"
   },
   "outputs": [
    {
     "data": {
      "text/plain": [
       "('Banana', 'Yellow', 1)"
      ]
     },
     "execution_count": 25,
     "metadata": {},
     "output_type": "execute_result"
    }
   ],
   "source": [
    "Q10 = q9[2]"
   ]
  },
  {
   "cell_type": "code",
   "execution_count": null,
   "metadata": {
    "id": "RLxJ7EamvQ53"
   },
   "outputs": [],
   "source": []
  },
  {
   "cell_type": "code",
   "execution_count": 29,
   "metadata": {
    "colab": {
     "base_uri": "https://localhost:8080/"
    },
    "id": "x0QvURoRuTTD",
    "outputId": "e2945b2f-f899-4973-bbb3-5effc1a7372d"
   },
   "outputs": [
    {
     "data": {
      "text/plain": [
       "array([('Apple', 'Red', 2), ('Banana', 'Yellow', 1)],\n",
       "      dtype=[('fruit', '<U20'), ('color', '<U20'), ('ranking', '<i4')])"
      ]
     },
     "execution_count": 29,
     "metadata": {},
     "output_type": "execute_result"
    }
   ],
   "source": [
    "Q11 = q9[q9['ranking']<3]"
   ]
  }
 ],
 "metadata": {
  "colab": {
   "provenance": []
  },
  "kernelspec": {
   "display_name": "Python 3 (ipykernel)",
   "language": "python",
   "name": "python3"
  },
  "language_info": {
   "codemirror_mode": {
    "name": "ipython",
    "version": 3
   },
   "file_extension": ".py",
   "mimetype": "text/x-python",
   "name": "python",
   "nbconvert_exporter": "python",
   "pygments_lexer": "ipython3",
   "version": "3.11.5"
  }
 },
 "nbformat": 4,
 "nbformat_minor": 1
}
