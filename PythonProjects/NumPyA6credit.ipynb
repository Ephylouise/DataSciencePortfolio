{
  "nbformat": 4,
  "nbformat_minor": 0,
  "metadata": {
    "colab": {
      "provenance": []
    },
    "kernelspec": {
      "name": "python3",
      "display_name": "Python 3"
    },
    "language_info": {
      "name": "python"
    }
  },
  "cells": [
    {
      "cell_type": "code",
      "execution_count": 1,
      "metadata": {
        "id": "AsuULmoeEc0C"
      },
      "outputs": [],
      "source": [
        "import numpy as np"
      ]
    },
    {
      "cell_type": "code",
      "source": [
        "np.random.seed(100)"
      ],
      "metadata": {
        "id": "rs4vkXPhEhTk"
      },
      "execution_count": 2,
      "outputs": []
    },
    {
      "cell_type": "code",
      "source": [
        "arr = np.random.rand(20)\n",
        "Q1 = np.sum(arr)"
      ],
      "metadata": {
        "id": "KZJ33NmGEiZJ"
      },
      "execution_count": 3,
      "outputs": []
    },
    {
      "cell_type": "code",
      "source": [
        "Q2 = np.max(arr)"
      ],
      "metadata": {
        "id": "IhCvN4B5EicT"
      },
      "execution_count": 4,
      "outputs": []
    },
    {
      "cell_type": "code",
      "source": [
        "arr2 = np.random.rand(4, 5)\n",
        "Q3 = np.min(arr2, axis = 1)"
      ],
      "metadata": {
        "id": "tNCbpq8QEifG"
      },
      "execution_count": 5,
      "outputs": []
    },
    {
      "cell_type": "code",
      "source": [
        "Q4 = np.mean(arr2)"
      ],
      "metadata": {
        "id": "2xWpGmMNEihg"
      },
      "execution_count": 6,
      "outputs": []
    },
    {
      "cell_type": "code",
      "source": [
        "arr3 = np.array([2, 3, np.nan, 5])\n",
        "Q5 = np.nansum(arr3)"
      ],
      "metadata": {
        "id": "o-4n-DOQEikD"
      },
      "execution_count": 7,
      "outputs": []
    },
    {
      "cell_type": "code",
      "source": [
        "arr4 = np.random.rand(4)\n",
        "arr5 = np.random.rand(4)\n",
        "Q6 = np.concatenate([arr4, arr5])\n"
      ],
      "metadata": {
        "id": "tBpqoIgvEimr"
      },
      "execution_count": 8,
      "outputs": []
    },
    {
      "cell_type": "code",
      "source": [
        "q7 = np.random.rand(4,4)\n",
        "Q7= np.concatenate([q7, q7])"
      ],
      "metadata": {
        "id": "CJnrh81KEipn"
      },
      "execution_count": 9,
      "outputs": []
    },
    {
      "cell_type": "code",
      "source": [
        "q8 = np.random.rand(2, 4)\n",
        "Q8 = np.vstack([q7, q8])"
      ],
      "metadata": {
        "id": "StTsELNciW6f"
      },
      "execution_count": 10,
      "outputs": []
    },
    {
      "cell_type": "code",
      "source": [
        "Q9 = np.vstack([q7, q7, q7, q8, q8])"
      ],
      "metadata": {
        "id": "57AuhJ0dEiuf"
      },
      "execution_count": 11,
      "outputs": []
    },
    {
      "cell_type": "code",
      "source": [
        "arr6 = np.random.rand(2, 1)"
      ],
      "metadata": {
        "id": "-Xpj9Dl_Ei0j"
      },
      "execution_count": 12,
      "outputs": []
    },
    {
      "cell_type": "code",
      "source": [
        "Q10 = np.hstack([q8, arr6])"
      ],
      "metadata": {
        "id": "WyfkQkmaNvKo"
      },
      "execution_count": 13,
      "outputs": []
    },
    {
      "cell_type": "code",
      "source": [
        "q11 = np.random.rand(20)\n",
        "Q11a, Q11b = np.split(q11, [5])"
      ],
      "metadata": {
        "id": "2crPF0afICV9"
      },
      "execution_count": 15,
      "outputs": []
    },
    {
      "cell_type": "code",
      "source": [
        "Q12a, Q12b, Q12c = np.split(q11, [10, 15])"
      ],
      "metadata": {
        "id": "h2gN9dmIICZI"
      },
      "execution_count": 16,
      "outputs": []
    },
    {
      "cell_type": "code",
      "source": [
        "q13 = np.random.rand(5, 5)\n",
        "Q13a, Q13b = np.vsplit(q13, [3])"
      ],
      "metadata": {
        "id": "Lj7BvcW7ICbv"
      },
      "execution_count": 17,
      "outputs": []
    },
    {
      "cell_type": "code",
      "source": [
        "Q14a, Q14b = np.hsplit(q13, [3])"
      ],
      "metadata": {
        "id": "5nOCYtrgICev"
      },
      "execution_count": 18,
      "outputs": []
    }
  ]
}