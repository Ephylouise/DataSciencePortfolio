{
 "cells": [
  {
   "cell_type": "code",
   "execution_count": 1,
   "metadata": {
    "id": "4y9qTK26yZsU"
   },
   "outputs": [],
   "source": [
    "import numpy as np"
   ]
  },
  {
   "cell_type": "code",
   "execution_count": 28,
   "metadata": {
    "id": "zivH6HZ5zcag"
   },
   "outputs": [],
   "source": [
    "q1 = {'One':'A',\n",
    "     'Two':'B',\n",
    "     'Three':'C',\n",
    "     'Four':'D'}"
   ]
  },
  {
   "cell_type": "code",
   "execution_count": 8,
   "metadata": {
    "colab": {
     "base_uri": "https://localhost:8080/",
     "height": 35
    },
    "id": "wA5_m6H9zcdQ",
    "outputId": "af2c523d-b339-4412-9d67-16001c3d8562"
   },
   "outputs": [
    {
     "data": {
      "application/vnd.google.colaboratory.intrinsic+json": {
       "type": "string"
      },
      "text/plain": [
       "'C'"
      ]
     },
     "execution_count": 8,
     "metadata": {},
     "output_type": "execute_result"
    }
   ],
   "source": [
    "Q1 = q1['Three']"
   ]
  },
  {
   "cell_type": "code",
   "execution_count": 9,
   "metadata": {
    "id": "kmVa5d1jzcgJ"
   },
   "outputs": [],
   "source": [
    "Q2 = {'Five':'E',\n",
    "      'Six':'F'}"
   ]
  },
  {
   "cell_type": "code",
   "execution_count": 10,
   "metadata": {
    "id": "3feAtqypzcjQ"
   },
   "outputs": [],
   "source": [
    "Q2['Seven'] = 'G'"
   ]
  },
  {
   "cell_type": "code",
   "execution_count": 13,
   "metadata": {
    "id": "RrCyWc8Jzclf"
   },
   "outputs": [],
   "source": [
    "Q3 = {'Eight':'H'}\n",
    "del(Q3['Eight'])"
   ]
  },
  {
   "cell_type": "code",
   "execution_count": 16,
   "metadata": {
    "id": "yVPuhboN1TQ6"
   },
   "outputs": [],
   "source": [
    "Q4 = {'Nine':'I',\n",
    "      'Ten':'J'}\n",
    "Q4['Ten'] = 'K'"
   ]
  },
  {
   "cell_type": "code",
   "execution_count": 32,
   "metadata": {
    "colab": {
     "base_uri": "https://localhost:8080/"
    },
    "id": "twBqRNJ-1TXX",
    "outputId": "37ddb404-db5b-4e2c-dd41-394fa88d5740"
   },
   "outputs": [
    {
     "name": "stdout",
     "output_type": "stream",
     "text": [
      "A\n",
      "B\n",
      "C\n",
      "D\n"
     ]
    }
   ],
   "source": [
    "def Q5():\n",
    "  for i in q1.values():\n",
    "    print(i)\n"
   ]
  },
  {
   "cell_type": "code",
   "execution_count": 27,
   "metadata": {
    "colab": {
     "base_uri": "https://localhost:8080/"
    },
    "id": "n8-UgswR1TaQ",
    "outputId": "f3890948-8672-43d6-fc0a-d168cef07bea"
   },
   "outputs": [
    {
     "name": "stdout",
     "output_type": "stream",
     "text": [
      "A\n",
      "B\n",
      "C\n",
      "D\n"
     ]
    }
   ],
   "source": [
    "def Q6():\n",
    "  for i in q1:\n",
    "    print(i)"
   ]
  },
  {
   "cell_type": "code",
   "execution_count": 34,
   "metadata": {
    "colab": {
     "base_uri": "https://localhost:8080/"
    },
    "id": "GBwaUYq24w_7",
    "outputId": "7f7d08d1-8414-427b-a1ae-59d0fc5a51cd"
   },
   "outputs": [
    {
     "data": {
      "text/plain": [
       "{'Least Favorite': {'Fruit': 'Grape', 'Color': 'Purple'},\n",
       " 'Medium Favorite': {'Fruit': 'Apple', 'Color': 'Red'},\n",
       " 'Most Favorite': {'Fruit': 'Banana', 'Color': 'Yellow'}}"
      ]
     },
     "execution_count": 34,
     "metadata": {},
     "output_type": "execute_result"
    }
   ],
   "source": [
    "Q7 = {'Least Favorite':{\n",
    "    'Fruit':'Grape',\n",
    "    'Color':'Purple'},\n",
    "      'Medium Favorite':{\n",
    "    'Fruit':'Apple',\n",
    "    'Color':'Red'},\n",
    "      'Most Favorite':{\n",
    "    'Fruit':'Banana',\n",
    "    'Color':'Yellow'},\n",
    "}"
   ]
  }
 ],
 "metadata": {
  "colab": {
   "provenance": []
  },
  "kernelspec": {
   "display_name": "Python 3 (ipykernel)",
   "language": "python",
   "name": "python3"
  },
  "language_info": {
   "codemirror_mode": {
    "name": "ipython",
    "version": 3
   },
   "file_extension": ".py",
   "mimetype": "text/x-python",
   "name": "python",
   "nbconvert_exporter": "python",
   "pygments_lexer": "ipython3",
   "version": "3.11.5"
  }
 },
 "nbformat": 4,
 "nbformat_minor": 1
}
