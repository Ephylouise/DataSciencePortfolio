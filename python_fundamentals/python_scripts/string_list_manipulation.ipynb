{
 "cells": [
  {
   "cell_type": "markdown",
   "id": "ae7e0e8b",
   "metadata": {},
   "source": [
    "Steph Roberts\n",
    "2024 SP1 520\n",
    "26JAN24\n",
    "Python Assignment 1"
   ]
  },
  {
   "cell_type": "code",
   "execution_count": 3,
   "id": "5e2d0661",
   "metadata": {},
   "outputs": [],
   "source": [
    "Q1 = \"Welcome to EU!\""
   ]
  },
  {
   "cell_type": "code",
   "execution_count": 27,
   "id": "e5369696",
   "metadata": {},
   "outputs": [],
   "source": [
    "Q2 = Q1[11:]"
   ]
  },
  {
   "cell_type": "code",
   "execution_count": 29,
   "id": "a7f3a41e",
   "metadata": {},
   "outputs": [],
   "source": [
    "Q3 = Q1[5:11]"
   ]
  },
  {
   "cell_type": "code",
   "execution_count": 30,
   "id": "135d99b0",
   "metadata": {},
   "outputs": [],
   "source": [
    "Q4 = [\"Eric Camacho\", \"Elmer Felicitas\", \"Shankar Lucrece\", \"Gitta Nevena\", \"Rasmus Tarquinius\"]"
   ]
  },
  {
   "cell_type": "code",
   "execution_count": 31,
   "id": "9e864345",
   "metadata": {},
   "outputs": [],
   "source": [
    "Q5 = [7, '7', 'Seven', 7.0]"
   ]
  },
  {
   "cell_type": "code",
   "execution_count": 32,
   "id": "1a34656a",
   "metadata": {},
   "outputs": [],
   "source": [
    "Q6 = Q4[3:]"
   ]
  },
  {
   "cell_type": "code",
   "execution_count": 33,
   "id": "dd88ad90",
   "metadata": {},
   "outputs": [],
   "source": [
    "Q7 = Q5[1:3]"
   ]
  },
  {
   "cell_type": "code",
   "execution_count": 34,
   "id": "b02ad481",
   "metadata": {},
   "outputs": [],
   "source": [
    "mylist = [4, 8, 11, 3, 19, 2, 5, 8, 12, 9]"
   ]
  },
  {
   "cell_type": "code",
   "execution_count": 35,
   "id": "1d0c7ed9",
   "metadata": {},
   "outputs": [],
   "source": [
    "Q8 = mylist[:3]"
   ]
  },
  {
   "cell_type": "code",
   "execution_count": 36,
   "id": "1ad60794",
   "metadata": {},
   "outputs": [],
   "source": [
    "Q9 = mylist[7:]"
   ]
  },
  {
   "cell_type": "code",
   "execution_count": 37,
   "id": "b5754fa9",
   "metadata": {},
   "outputs": [],
   "source": [
    "Q10 = mylist[2:6]"
   ]
  },
  {
   "cell_type": "code",
   "execution_count": 38,
   "id": "49c385cc",
   "metadata": {},
   "outputs": [],
   "source": [
    "Q11 = mylist[5:7]"
   ]
  }
 ],
 "metadata": {
  "kernelspec": {
   "display_name": "Python 3 (ipykernel)",
   "language": "python",
   "name": "python3"
  },
  "language_info": {
   "codemirror_mode": {
    "name": "ipython",
    "version": 3
   },
   "file_extension": ".py",
   "mimetype": "text/x-python",
   "name": "python",
   "nbconvert_exporter": "python",
   "pygments_lexer": "ipython3",
   "version": "3.11.5"
  }
 },
 "nbformat": 4,
 "nbformat_minor": 5
}
