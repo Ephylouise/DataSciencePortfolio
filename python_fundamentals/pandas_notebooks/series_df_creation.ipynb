{
 "cells": [
  {
   "cell_type": "code",
   "execution_count": 1,
   "id": "97dc114e",
   "metadata": {},
   "outputs": [],
   "source": [
    "import numpy as np\n",
    "import pandas as pd"
   ]
  },
  {
   "cell_type": "code",
   "execution_count": 2,
   "id": "28909250",
   "metadata": {},
   "outputs": [
    {
     "data": {
      "text/plain": [
       "5281224    Stina Calista\n",
       "4223241     Fran Hendrix\n",
       "4233342       Cyril Isak\n",
       "5012332    Danilo Norina\n",
       "dtype: object"
      ]
     },
     "execution_count": 2,
     "metadata": {},
     "output_type": "execute_result"
    }
   ],
   "source": [
    "Q1 = pd.Series(['Stina Calista', 'Fran Hendrix', 'Cyril Isak', 'Danilo Norina'], \n",
    "              index = [5281224, 4223241, 4233342, 5012332])\n",
    "Q1"
   ]
  },
  {
   "cell_type": "code",
   "execution_count": 3,
   "id": "0dd4e5b3",
   "metadata": {},
   "outputs": [
    {
     "data": {
      "text/plain": [
       "{'Roger Clemens': 133.7,\n",
       " 'Cy Young': 131.5,\n",
       " 'Walter Johnson': 117.1,\n",
       " 'Greg Maddux': 116.7,\n",
       " 'Randy Johnson': 110.4}"
      ]
     },
     "execution_count": 3,
     "metadata": {},
     "output_type": "execute_result"
    }
   ],
   "source": [
    "Q2 = {'Roger Clemens': 133.7, \n",
    "     'Cy Young': 131.5, \n",
    "     'Walter Johnson': 117.1,\n",
    "     'Greg Maddux': 116.7,\n",
    "     'Randy Johnson': 110.4}\n",
    "Q2"
   ]
  },
  {
   "cell_type": "code",
   "execution_count": 4,
   "id": "b59e28ae",
   "metadata": {},
   "outputs": [
    {
     "data": {
      "text/plain": [
       "Roger Clemens     133.7\n",
       "Cy Young          131.5\n",
       "Walter Johnson    117.1\n",
       "Greg Maddux       116.7\n",
       "Randy Johnson     110.4\n",
       "dtype: float64"
      ]
     },
     "execution_count": 4,
     "metadata": {},
     "output_type": "execute_result"
    }
   ],
   "source": [
    "Q3 = pd.Series(Q2)\n",
    "Q3"
   ]
  },
  {
   "cell_type": "code",
   "execution_count": 5,
   "id": "6046803a",
   "metadata": {},
   "outputs": [
    {
     "data": {
      "text/plain": [
       "5281224        Accountant\n",
       "4223241    Data Scientist\n",
       "4233342           Manager\n",
       "5012332    Security staff\n",
       "dtype: object"
      ]
     },
     "execution_count": 5,
     "metadata": {},
     "output_type": "execute_result"
    }
   ],
   "source": [
    "occupation = pd.Series(['Accountant', 'Data Scientist', 'Manager', 'Security staff'],\n",
    "                      index = [5281224, 4223241, 4233342, 5012332])\n",
    "occupation"
   ]
  },
  {
   "cell_type": "code",
   "execution_count": 6,
   "id": "25e1e94e",
   "metadata": {},
   "outputs": [
    {
     "data": {
      "text/html": [
       "<div>\n",
       "<style scoped>\n",
       "    .dataframe tbody tr th:only-of-type {\n",
       "        vertical-align: middle;\n",
       "    }\n",
       "\n",
       "    .dataframe tbody tr th {\n",
       "        vertical-align: top;\n",
       "    }\n",
       "\n",
       "    .dataframe thead th {\n",
       "        text-align: right;\n",
       "    }\n",
       "</style>\n",
       "<table border=\"1\" class=\"dataframe\">\n",
       "  <thead>\n",
       "    <tr style=\"text-align: right;\">\n",
       "      <th></th>\n",
       "      <th>Name</th>\n",
       "      <th>Occupation</th>\n",
       "    </tr>\n",
       "  </thead>\n",
       "  <tbody>\n",
       "    <tr>\n",
       "      <th>5281224</th>\n",
       "      <td>Stina Calista</td>\n",
       "      <td>Accountant</td>\n",
       "    </tr>\n",
       "    <tr>\n",
       "      <th>4223241</th>\n",
       "      <td>Fran Hendrix</td>\n",
       "      <td>Data Scientist</td>\n",
       "    </tr>\n",
       "    <tr>\n",
       "      <th>4233342</th>\n",
       "      <td>Cyril Isak</td>\n",
       "      <td>Manager</td>\n",
       "    </tr>\n",
       "    <tr>\n",
       "      <th>5012332</th>\n",
       "      <td>Danilo Norina</td>\n",
       "      <td>Security staff</td>\n",
       "    </tr>\n",
       "  </tbody>\n",
       "</table>\n",
       "</div>"
      ],
      "text/plain": [
       "                  Name      Occupation\n",
       "5281224  Stina Calista      Accountant\n",
       "4223241   Fran Hendrix  Data Scientist\n",
       "4233342     Cyril Isak         Manager\n",
       "5012332  Danilo Norina  Security staff"
      ]
     },
     "execution_count": 6,
     "metadata": {},
     "output_type": "execute_result"
    }
   ],
   "source": [
    "Q4 = pd.DataFrame({'Name': Q1, \n",
    "                  'Occupation': occupation})\n",
    "Q4"
   ]
  },
  {
   "cell_type": "code",
   "execution_count": 8,
   "id": "73648fdf",
   "metadata": {},
   "outputs": [
    {
     "data": {
      "text/plain": [
       "China            1411778724\n",
       "India            1378331486\n",
       "United States     331865271\n",
       "Indonesia         271350000\n",
       "Pakistan          225200000\n",
       "dtype: int64"
      ]
     },
     "execution_count": 8,
     "metadata": {},
     "output_type": "execute_result"
    }
   ],
   "source": [
    "pop_dict = {'China': 1411778724, \n",
    "           'India': 1378331486,\n",
    "           'United States': 331865271, \n",
    "           'Indonesia': 271350000, \n",
    "           'Pakistan': 225200000}\n",
    "pop = pd.Series(pop_dict)\n",
    "area_dict = {'Russia': 17098246, \n",
    "            'Canada': 9984670, \n",
    "            'China': 9596961, \n",
    "            'United States': 9525067, \n",
    "            'Brazil': 8515767}\n",
    "area = pd.Series(area_dict)\n"
   ]
  },
  {
   "cell_type": "code",
   "execution_count": 11,
   "id": "98cac0a9",
   "metadata": {},
   "outputs": [
    {
     "data": {
      "text/html": [
       "<div>\n",
       "<style scoped>\n",
       "    .dataframe tbody tr th:only-of-type {\n",
       "        vertical-align: middle;\n",
       "    }\n",
       "\n",
       "    .dataframe tbody tr th {\n",
       "        vertical-align: top;\n",
       "    }\n",
       "\n",
       "    .dataframe thead th {\n",
       "        text-align: right;\n",
       "    }\n",
       "</style>\n",
       "<table border=\"1\" class=\"dataframe\">\n",
       "  <thead>\n",
       "    <tr style=\"text-align: right;\">\n",
       "      <th></th>\n",
       "      <th>Population</th>\n",
       "      <th>Area</th>\n",
       "    </tr>\n",
       "  </thead>\n",
       "  <tbody>\n",
       "    <tr>\n",
       "      <th>China</th>\n",
       "      <td>1.411779e+09</td>\n",
       "      <td>9596961.0</td>\n",
       "    </tr>\n",
       "    <tr>\n",
       "      <th>India</th>\n",
       "      <td>1.378331e+09</td>\n",
       "      <td>NaN</td>\n",
       "    </tr>\n",
       "    <tr>\n",
       "      <th>United States</th>\n",
       "      <td>3.318653e+08</td>\n",
       "      <td>9525067.0</td>\n",
       "    </tr>\n",
       "    <tr>\n",
       "      <th>Indonesia</th>\n",
       "      <td>2.713500e+08</td>\n",
       "      <td>NaN</td>\n",
       "    </tr>\n",
       "    <tr>\n",
       "      <th>Pakistan</th>\n",
       "      <td>2.252000e+08</td>\n",
       "      <td>NaN</td>\n",
       "    </tr>\n",
       "    <tr>\n",
       "      <th>Russia</th>\n",
       "      <td>NaN</td>\n",
       "      <td>17098246.0</td>\n",
       "    </tr>\n",
       "    <tr>\n",
       "      <th>Canada</th>\n",
       "      <td>NaN</td>\n",
       "      <td>9984670.0</td>\n",
       "    </tr>\n",
       "    <tr>\n",
       "      <th>Brazil</th>\n",
       "      <td>NaN</td>\n",
       "      <td>8515767.0</td>\n",
       "    </tr>\n",
       "  </tbody>\n",
       "</table>\n",
       "</div>"
      ],
      "text/plain": [
       "                 Population        Area\n",
       "China          1.411779e+09   9596961.0\n",
       "India          1.378331e+09         NaN\n",
       "United States  3.318653e+08   9525067.0\n",
       "Indonesia      2.713500e+08         NaN\n",
       "Pakistan       2.252000e+08         NaN\n",
       "Russia                  NaN  17098246.0\n",
       "Canada                  NaN   9984670.0\n",
       "Brazil                  NaN   8515767.0"
      ]
     },
     "execution_count": 11,
     "metadata": {},
     "output_type": "execute_result"
    }
   ],
   "source": [
    "Q5 = pd.DataFrame({'Population': pop, \n",
    "                  'Area': area})\n",
    "Q5 = Q5.reindex(['China', 'India', 'United States', 'Indonesia', 'Pakistan', 'Russia', 'Canada', 'Brazil'])\n",
    "Q5"
   ]
  },
  {
   "cell_type": "code",
   "execution_count": 12,
   "id": "18eda53a",
   "metadata": {},
   "outputs": [
    {
     "data": {
      "text/html": [
       "<div>\n",
       "<style scoped>\n",
       "    .dataframe tbody tr th:only-of-type {\n",
       "        vertical-align: middle;\n",
       "    }\n",
       "\n",
       "    .dataframe tbody tr th {\n",
       "        vertical-align: top;\n",
       "    }\n",
       "\n",
       "    .dataframe thead th {\n",
       "        text-align: right;\n",
       "    }\n",
       "</style>\n",
       "<table border=\"1\" class=\"dataframe\">\n",
       "  <thead>\n",
       "    <tr style=\"text-align: right;\">\n",
       "      <th></th>\n",
       "      <th>Population</th>\n",
       "      <th>Area</th>\n",
       "    </tr>\n",
       "  </thead>\n",
       "  <tbody>\n",
       "    <tr>\n",
       "      <th>China</th>\n",
       "      <td>1.411779e+09</td>\n",
       "      <td>9596961.0</td>\n",
       "    </tr>\n",
       "    <tr>\n",
       "      <th>United States</th>\n",
       "      <td>3.318653e+08</td>\n",
       "      <td>9525067.0</td>\n",
       "    </tr>\n",
       "  </tbody>\n",
       "</table>\n",
       "</div>"
      ],
      "text/plain": [
       "                 Population       Area\n",
       "China          1.411779e+09  9596961.0\n",
       "United States  3.318653e+08  9525067.0"
      ]
     },
     "execution_count": 12,
     "metadata": {},
     "output_type": "execute_result"
    }
   ],
   "source": [
    "Q6 = Q5.loc[['China', 'United States']]\n",
    "Q6"
   ]
  },
  {
   "cell_type": "code",
   "execution_count": 13,
   "id": "ed1f8b7c",
   "metadata": {},
   "outputs": [
    {
     "data": {
      "text/html": [
       "<div>\n",
       "<style scoped>\n",
       "    .dataframe tbody tr th:only-of-type {\n",
       "        vertical-align: middle;\n",
       "    }\n",
       "\n",
       "    .dataframe tbody tr th {\n",
       "        vertical-align: top;\n",
       "    }\n",
       "\n",
       "    .dataframe thead th {\n",
       "        text-align: right;\n",
       "    }\n",
       "</style>\n",
       "<table border=\"1\" class=\"dataframe\">\n",
       "  <thead>\n",
       "    <tr style=\"text-align: right;\">\n",
       "      <th></th>\n",
       "      <th>Population</th>\n",
       "      <th>Area</th>\n",
       "    </tr>\n",
       "  </thead>\n",
       "  <tbody>\n",
       "    <tr>\n",
       "      <th>China</th>\n",
       "      <td>1.411779e+09</td>\n",
       "      <td>9596961.0</td>\n",
       "    </tr>\n",
       "    <tr>\n",
       "      <th>India</th>\n",
       "      <td>1.378331e+09</td>\n",
       "      <td>NaN</td>\n",
       "    </tr>\n",
       "    <tr>\n",
       "      <th>United States</th>\n",
       "      <td>3.318653e+08</td>\n",
       "      <td>9525067.0</td>\n",
       "    </tr>\n",
       "    <tr>\n",
       "      <th>Indonesia</th>\n",
       "      <td>2.713500e+08</td>\n",
       "      <td>NaN</td>\n",
       "    </tr>\n",
       "  </tbody>\n",
       "</table>\n",
       "</div>"
      ],
      "text/plain": [
       "                 Population       Area\n",
       "China          1.411779e+09  9596961.0\n",
       "India          1.378331e+09        NaN\n",
       "United States  3.318653e+08  9525067.0\n",
       "Indonesia      2.713500e+08        NaN"
      ]
     },
     "execution_count": 13,
     "metadata": {},
     "output_type": "execute_result"
    }
   ],
   "source": [
    "Q7 = Q5.loc[Q5['Population']> 270000000]\n",
    "Q7"
   ]
  },
  {
   "cell_type": "code",
   "execution_count": 14,
   "id": "c68be493",
   "metadata": {},
   "outputs": [
    {
     "data": {
      "text/html": [
       "<div>\n",
       "<style scoped>\n",
       "    .dataframe tbody tr th:only-of-type {\n",
       "        vertical-align: middle;\n",
       "    }\n",
       "\n",
       "    .dataframe tbody tr th {\n",
       "        vertical-align: top;\n",
       "    }\n",
       "\n",
       "    .dataframe thead th {\n",
       "        text-align: right;\n",
       "    }\n",
       "</style>\n",
       "<table border=\"1\" class=\"dataframe\">\n",
       "  <thead>\n",
       "    <tr style=\"text-align: right;\">\n",
       "      <th></th>\n",
       "      <th>Population</th>\n",
       "      <th>Area</th>\n",
       "    </tr>\n",
       "  </thead>\n",
       "  <tbody>\n",
       "    <tr>\n",
       "      <th>Russia</th>\n",
       "      <td>NaN</td>\n",
       "      <td>17098246.0</td>\n",
       "    </tr>\n",
       "    <tr>\n",
       "      <th>Canada</th>\n",
       "      <td>NaN</td>\n",
       "      <td>9984670.0</td>\n",
       "    </tr>\n",
       "  </tbody>\n",
       "</table>\n",
       "</div>"
      ],
      "text/plain": [
       "        Population        Area\n",
       "Russia         NaN  17098246.0\n",
       "Canada         NaN   9984670.0"
      ]
     },
     "execution_count": 14,
     "metadata": {},
     "output_type": "execute_result"
    }
   ],
   "source": [
    "Q8 = Q5.loc[Q5['Area']> 9600000] \n",
    "Q8"
   ]
  }
 ],
 "metadata": {
  "kernelspec": {
   "display_name": "Python 3 (ipykernel)",
   "language": "python",
   "name": "python3"
  },
  "language_info": {
   "codemirror_mode": {
    "name": "ipython",
    "version": 3
   },
   "file_extension": ".py",
   "mimetype": "text/x-python",
   "name": "python",
   "nbconvert_exporter": "python",
   "pygments_lexer": "ipython3",
   "version": "3.11.5"
  }
 },
 "nbformat": 4,
 "nbformat_minor": 5
}
